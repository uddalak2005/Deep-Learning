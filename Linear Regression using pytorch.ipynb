{
 "cells": [
  {
   "cell_type": "code",
   "id": "initial_id",
   "metadata": {
    "collapsed": true,
    "ExecuteTime": {
     "end_time": "2024-07-23T07:04:40.259641Z",
     "start_time": "2024-07-23T07:04:22.054299Z"
    }
   },
   "source": [
    "import torch\n",
    "import matplotlib.pyplot as plt\n",
    "import pandas as pd\n",
    "from sklearn.model_selection import train_test_split\n",
    "from torch import nn\n",
    "from tqdm import tqdm"
   ],
   "outputs": [],
   "execution_count": 1
  },
  {
   "metadata": {},
   "cell_type": "markdown",
   "source": "Loading Dataset",
   "id": "a0c7a3747affe459"
  },
  {
   "metadata": {
    "ExecuteTime": {
     "end_time": "2024-07-23T07:04:40.309946Z",
     "start_time": "2024-07-23T07:04:40.260649Z"
    }
   },
   "cell_type": "code",
   "source": [
    "df = pd.read_csv('Housing.csv')\n",
    "df.head()"
   ],
   "id": "f2503ddf7d82ed15",
   "outputs": [
    {
     "data": {
      "text/plain": [
       "      price  area  bedrooms  bathrooms  stories mainroad guestroom basement  \\\n",
       "0  13300000  7420         4          2        3      yes        no       no   \n",
       "1  12250000  8960         4          4        4      yes        no       no   \n",
       "2  12250000  9960         3          2        2      yes        no      yes   \n",
       "3  12215000  7500         4          2        2      yes        no      yes   \n",
       "4  11410000  7420         4          1        2      yes       yes      yes   \n",
       "\n",
       "  hotwaterheating airconditioning  parking prefarea furnishingstatus  \n",
       "0              no             yes        2      yes        furnished  \n",
       "1              no             yes        3       no        furnished  \n",
       "2              no              no        2      yes   semi-furnished  \n",
       "3              no             yes        3      yes        furnished  \n",
       "4              no             yes        2       no        furnished  "
      ],
      "text/html": [
       "<div>\n",
       "<style scoped>\n",
       "    .dataframe tbody tr th:only-of-type {\n",
       "        vertical-align: middle;\n",
       "    }\n",
       "\n",
       "    .dataframe tbody tr th {\n",
       "        vertical-align: top;\n",
       "    }\n",
       "\n",
       "    .dataframe thead th {\n",
       "        text-align: right;\n",
       "    }\n",
       "</style>\n",
       "<table border=\"1\" class=\"dataframe\">\n",
       "  <thead>\n",
       "    <tr style=\"text-align: right;\">\n",
       "      <th></th>\n",
       "      <th>price</th>\n",
       "      <th>area</th>\n",
       "      <th>bedrooms</th>\n",
       "      <th>bathrooms</th>\n",
       "      <th>stories</th>\n",
       "      <th>mainroad</th>\n",
       "      <th>guestroom</th>\n",
       "      <th>basement</th>\n",
       "      <th>hotwaterheating</th>\n",
       "      <th>airconditioning</th>\n",
       "      <th>parking</th>\n",
       "      <th>prefarea</th>\n",
       "      <th>furnishingstatus</th>\n",
       "    </tr>\n",
       "  </thead>\n",
       "  <tbody>\n",
       "    <tr>\n",
       "      <th>0</th>\n",
       "      <td>13300000</td>\n",
       "      <td>7420</td>\n",
       "      <td>4</td>\n",
       "      <td>2</td>\n",
       "      <td>3</td>\n",
       "      <td>yes</td>\n",
       "      <td>no</td>\n",
       "      <td>no</td>\n",
       "      <td>no</td>\n",
       "      <td>yes</td>\n",
       "      <td>2</td>\n",
       "      <td>yes</td>\n",
       "      <td>furnished</td>\n",
       "    </tr>\n",
       "    <tr>\n",
       "      <th>1</th>\n",
       "      <td>12250000</td>\n",
       "      <td>8960</td>\n",
       "      <td>4</td>\n",
       "      <td>4</td>\n",
       "      <td>4</td>\n",
       "      <td>yes</td>\n",
       "      <td>no</td>\n",
       "      <td>no</td>\n",
       "      <td>no</td>\n",
       "      <td>yes</td>\n",
       "      <td>3</td>\n",
       "      <td>no</td>\n",
       "      <td>furnished</td>\n",
       "    </tr>\n",
       "    <tr>\n",
       "      <th>2</th>\n",
       "      <td>12250000</td>\n",
       "      <td>9960</td>\n",
       "      <td>3</td>\n",
       "      <td>2</td>\n",
       "      <td>2</td>\n",
       "      <td>yes</td>\n",
       "      <td>no</td>\n",
       "      <td>yes</td>\n",
       "      <td>no</td>\n",
       "      <td>no</td>\n",
       "      <td>2</td>\n",
       "      <td>yes</td>\n",
       "      <td>semi-furnished</td>\n",
       "    </tr>\n",
       "    <tr>\n",
       "      <th>3</th>\n",
       "      <td>12215000</td>\n",
       "      <td>7500</td>\n",
       "      <td>4</td>\n",
       "      <td>2</td>\n",
       "      <td>2</td>\n",
       "      <td>yes</td>\n",
       "      <td>no</td>\n",
       "      <td>yes</td>\n",
       "      <td>no</td>\n",
       "      <td>yes</td>\n",
       "      <td>3</td>\n",
       "      <td>yes</td>\n",
       "      <td>furnished</td>\n",
       "    </tr>\n",
       "    <tr>\n",
       "      <th>4</th>\n",
       "      <td>11410000</td>\n",
       "      <td>7420</td>\n",
       "      <td>4</td>\n",
       "      <td>1</td>\n",
       "      <td>2</td>\n",
       "      <td>yes</td>\n",
       "      <td>yes</td>\n",
       "      <td>yes</td>\n",
       "      <td>no</td>\n",
       "      <td>yes</td>\n",
       "      <td>2</td>\n",
       "      <td>no</td>\n",
       "      <td>furnished</td>\n",
       "    </tr>\n",
       "  </tbody>\n",
       "</table>\n",
       "</div>"
      ]
     },
     "execution_count": 2,
     "metadata": {},
     "output_type": "execute_result"
    }
   ],
   "execution_count": 2
  },
  {
   "metadata": {
    "ExecuteTime": {
     "end_time": "2024-07-23T07:04:40.325020Z",
     "start_time": "2024-07-23T07:04:40.312943Z"
    }
   },
   "cell_type": "code",
   "source": "df.isnull().sum()",
   "id": "887d22d1d61f97c",
   "outputs": [
    {
     "data": {
      "text/plain": [
       "price               0\n",
       "area                0\n",
       "bedrooms            0\n",
       "bathrooms           0\n",
       "stories             0\n",
       "mainroad            0\n",
       "guestroom           0\n",
       "basement            0\n",
       "hotwaterheating     0\n",
       "airconditioning     0\n",
       "parking             0\n",
       "prefarea            0\n",
       "furnishingstatus    0\n",
       "dtype: int64"
      ]
     },
     "execution_count": 3,
     "metadata": {},
     "output_type": "execute_result"
    }
   ],
   "execution_count": 3
  },
  {
   "metadata": {},
   "cell_type": "markdown",
   "source": "Splitting data into features and dependent variables",
   "id": "7a0ff814bf93945e"
  },
  {
   "metadata": {
    "ExecuteTime": {
     "end_time": "2024-07-23T07:04:40.334173Z",
     "start_time": "2024-07-23T07:04:40.328059Z"
    }
   },
   "cell_type": "code",
   "source": [
    "X = df['area']\n",
    "y = df['price']"
   ],
   "id": "971ed4483e7634c2",
   "outputs": [],
   "execution_count": 4
  },
  {
   "metadata": {},
   "cell_type": "markdown",
   "source": "Splitting into test and training sets",
   "id": "21399942c10fe2ae"
  },
  {
   "metadata": {
    "ExecuteTime": {
     "end_time": "2024-07-23T07:04:40.368615Z",
     "start_time": "2024-07-23T07:04:40.336195Z"
    }
   },
   "cell_type": "code",
   "source": [
    "X_train, X_test, y_train, y_test = train_test_split(X,y ,test_size =0.2, random_state=0)\n",
    "\n",
    "\n",
    "## Feature Scaling\n",
    "X_train = (X_train - X_train.min()) / (X_train.max() - X_train.min())\n",
    "X_test = (X_test - X_test.min()) / (X_test.max() - X_test.min())\n",
    "y_train = (y_train - y_train.min()) / (y_train.max() - y_train.min())\n",
    "y_test = (y_test - y_test.min()) / (y_test.max() - y_test.min())\n",
    "\n",
    "print(X_train.shape, X_test.shape, y_train.shape, y_test.shape)\n",
    "print(type(X_train), type(X_test), type(y_train), type(y_test))\n",
    "\n",
    "X_train = torch.tensor(X_train.values).type(torch.float32)\n",
    "X_test = torch.tensor(X_test.values).type(torch.float32)\n",
    "y_train = torch.tensor(y_train.values).type(torch.float32)\n",
    "y_test = torch.tensor(y_test.values).type(torch.float32)\n"
   ],
   "id": "c83741c7724629cf",
   "outputs": [
    {
     "name": "stdout",
     "output_type": "stream",
     "text": [
      "(436,) (109,) (436,) (109,)\n",
      "<class 'pandas.core.series.Series'> <class 'pandas.core.series.Series'> <class 'pandas.core.series.Series'> <class 'pandas.core.series.Series'>\n"
     ]
    }
   ],
   "execution_count": 5
  },
  {
   "metadata": {},
   "cell_type": "markdown",
   "source": "Creating our Linear Regression Model",
   "id": "fa63f6d912c15d8c"
  },
  {
   "metadata": {
    "ExecuteTime": {
     "end_time": "2024-07-23T07:04:40.377467Z",
     "start_time": "2024-07-23T07:04:40.370637Z"
    }
   },
   "cell_type": "code",
   "source": [
    "class LinearRegression(nn.Module):\n",
    "    \n",
    "    def __init__(self):\n",
    "        super().__init__()\n",
    "        \n",
    "        self.weight = nn.Parameter(torch.randn(1,\n",
    "                                               requires_grad=True,\n",
    "                                               dtype=torch.float))\n",
    "        self.bias = nn.Parameter(torch.randn(1,\n",
    "                                             requires_grad=True,\n",
    "                                             dtype=torch.float))   \n",
    "    \n",
    "    def forward(self, x: torch.Tensor) -> torch.Tensor:\n",
    "        # return 1/(1+torch.exp(-self.weight * x + self.bias))\n",
    "        return self.weight * x + self.bias"
   ],
   "id": "c486737abe1f8313",
   "outputs": [],
   "execution_count": 6
  },
  {
   "metadata": {
    "ExecuteTime": {
     "end_time": "2024-07-23T07:04:40.431422Z",
     "start_time": "2024-07-23T07:04:40.380490Z"
    }
   },
   "cell_type": "code",
   "source": [
    "model = LinearRegression()\n",
    "model.state_dict()"
   ],
   "id": "5bb6f5e3be9e8807",
   "outputs": [
    {
     "data": {
      "text/plain": [
       "OrderedDict([('weight', tensor([1.4765])), ('bias', tensor([-0.4520]))])"
      ]
     },
     "execution_count": 7,
     "metadata": {},
     "output_type": "execute_result"
    }
   ],
   "execution_count": 7
  },
  {
   "metadata": {
    "ExecuteTime": {
     "end_time": "2024-07-23T07:04:45.497817Z",
     "start_time": "2024-07-23T07:04:40.432447Z"
    }
   },
   "cell_type": "code",
   "source": [
    "# Loss function\n",
    "loss_fn = nn.MSELoss()\n",
    "\n",
    "#Optimizer\n",
    "optimizer = torch.optim.SGD(params=model.parameters(), lr=0.01)"
   ],
   "id": "1e31d6a400e793e9",
   "outputs": [],
   "execution_count": 8
  },
  {
   "metadata": {
    "ExecuteTime": {
     "end_time": "2024-07-23T07:04:46.712700Z",
     "start_time": "2024-07-23T07:04:45.498818Z"
    }
   },
   "cell_type": "code",
   "source": [
    "### Training Loop\n",
    "torch.manual_seed(42)\n",
    "\n",
    "epochs = 1000\n",
    "\n",
    "for epoch in tqdm(range(epochs)):\n",
    "    # Set our model to training mode\n",
    "    model.train()\n",
    "    \n",
    "    #Forward pass\n",
    "    y_pred = model(X_train)\n",
    "    \n",
    "    #Calculating loss\n",
    "    loss = loss_fn(y_pred, y_train)\n",
    "    if epoch % 10 == 0:\n",
    "        print(f'Epoch {epoch}, Loss: {loss.item():.4f}')\n",
    "    \n",
    "    #Optimiser zero grad\n",
    "    optimizer.zero_grad()\n",
    "    \n",
    "    #Backward propagation\n",
    "    loss.backward()\n",
    "    \n",
    "    #Step the optimiser - perform gradient descent\n",
    "    optimizer.step()\n",
    "    \n",
    "    model.eval()"
   ],
   "id": "92dce754323d93f7",
   "outputs": [
    {
     "name": "stderr",
     "output_type": "stream",
     "text": [
      " 18%|█▊        | 182/1000 [00:00<00:00, 916.95it/s]"
     ]
    },
    {
     "name": "stdout",
     "output_type": "stream",
     "text": [
      "Epoch 0, Loss: 0.1763\n",
      "Epoch 10, Loss: 0.1290\n",
      "Epoch 20, Loss: 0.0980\n",
      "Epoch 30, Loss: 0.0777\n",
      "Epoch 40, Loss: 0.0644\n",
      "Epoch 50, Loss: 0.0556\n",
      "Epoch 60, Loss: 0.0499\n",
      "Epoch 70, Loss: 0.0460\n",
      "Epoch 80, Loss: 0.0435\n",
      "Epoch 90, Loss: 0.0418\n",
      "Epoch 100, Loss: 0.0406\n",
      "Epoch 110, Loss: 0.0398\n",
      "Epoch 120, Loss: 0.0392\n",
      "Epoch 130, Loss: 0.0387\n",
      "Epoch 140, Loss: 0.0384\n",
      "Epoch 150, Loss: 0.0381\n",
      "Epoch 160, Loss: 0.0379\n",
      "Epoch 170, Loss: 0.0377\n",
      "Epoch 180, Loss: 0.0375\n"
     ]
    },
    {
     "name": "stderr",
     "output_type": "stream",
     "text": [
      " 37%|███▋      | 368/1000 [00:00<00:00, 884.78it/s]"
     ]
    },
    {
     "name": "stdout",
     "output_type": "stream",
     "text": [
      "Epoch 190, Loss: 0.0373\n",
      "Epoch 200, Loss: 0.0372\n",
      "Epoch 210, Loss: 0.0370\n",
      "Epoch 220, Loss: 0.0369\n",
      "Epoch 230, Loss: 0.0367\n",
      "Epoch 240, Loss: 0.0366\n",
      "Epoch 250, Loss: 0.0364\n",
      "Epoch 260, Loss: 0.0363\n",
      "Epoch 270, Loss: 0.0361\n",
      "Epoch 280, Loss: 0.0360\n",
      "Epoch 290, Loss: 0.0359\n",
      "Epoch 300, Loss: 0.0357\n",
      "Epoch 310, Loss: 0.0356\n",
      "Epoch 320, Loss: 0.0355\n",
      "Epoch 330, Loss: 0.0353\n",
      "Epoch 340, Loss: 0.0352\n",
      "Epoch 350, Loss: 0.0351\n",
      "Epoch 360, Loss: 0.0349\n"
     ]
    },
    {
     "name": "stderr",
     "output_type": "stream",
     "text": [
      " 46%|████▌     | 458/1000 [00:00<00:00, 886.98it/s]"
     ]
    },
    {
     "name": "stdout",
     "output_type": "stream",
     "text": [
      "Epoch 370, Loss: 0.0348\n",
      "Epoch 380, Loss: 0.0347\n",
      "Epoch 390, Loss: 0.0345\n",
      "Epoch 400, Loss: 0.0344\n",
      "Epoch 410, Loss: 0.0343\n",
      "Epoch 420, Loss: 0.0342\n",
      "Epoch 430, Loss: 0.0341\n",
      "Epoch 440, Loss: 0.0339\n",
      "Epoch 450, Loss: 0.0338\n",
      "Epoch 460, Loss: 0.0337\n",
      "Epoch 470, Loss: 0.0336\n",
      "Epoch 480, Loss: 0.0335\n",
      "Epoch 490, Loss: 0.0333\n",
      "Epoch 500, Loss: 0.0332\n",
      "Epoch 510, Loss: 0.0331\n",
      "Epoch 520, Loss: 0.0330\n",
      "Epoch 530, Loss: 0.0329\n"
     ]
    },
    {
     "name": "stderr",
     "output_type": "stream",
     "text": [
      " 72%|███████▏  | 723/1000 [00:00<00:00, 854.60it/s]"
     ]
    },
    {
     "name": "stdout",
     "output_type": "stream",
     "text": [
      "Epoch 540, Loss: 0.0328\n",
      "Epoch 550, Loss: 0.0327\n",
      "Epoch 560, Loss: 0.0326\n",
      "Epoch 570, Loss: 0.0324\n",
      "Epoch 580, Loss: 0.0323\n",
      "Epoch 590, Loss: 0.0322\n",
      "Epoch 600, Loss: 0.0321\n",
      "Epoch 610, Loss: 0.0320\n",
      "Epoch 620, Loss: 0.0319\n",
      "Epoch 630, Loss: 0.0318\n",
      "Epoch 640, Loss: 0.0317\n",
      "Epoch 650, Loss: 0.0316\n",
      "Epoch 660, Loss: 0.0315\n",
      "Epoch 670, Loss: 0.0314\n",
      "Epoch 680, Loss: 0.0313\n",
      "Epoch 690, Loss: 0.0312\n",
      "Epoch 700, Loss: 0.0311\n",
      "Epoch 710, Loss: 0.0310\n",
      "Epoch 720, Loss: 0.0309\n"
     ]
    },
    {
     "name": "stderr",
     "output_type": "stream",
     "text": [
      " 81%|████████  | 809/1000 [00:00<00:00, 833.54it/s]"
     ]
    },
    {
     "name": "stdout",
     "output_type": "stream",
     "text": [
      "Epoch 730, Loss: 0.0308\n",
      "Epoch 740, Loss: 0.0307\n",
      "Epoch 750, Loss: 0.0306\n",
      "Epoch 760, Loss: 0.0305\n",
      "Epoch 770, Loss: 0.0305\n",
      "Epoch 780, Loss: 0.0304\n",
      "Epoch 790, Loss: 0.0303\n",
      "Epoch 800, Loss: 0.0302\n",
      "Epoch 810, Loss: 0.0301\n",
      "Epoch 820, Loss: 0.0300\n",
      "Epoch 830, Loss: 0.0299\n",
      "Epoch 840, Loss: 0.0298\n",
      "Epoch 850, Loss: 0.0298\n",
      "Epoch 860, Loss: 0.0297\n",
      "Epoch 870, Loss: 0.0296\n",
      "Epoch 880, Loss: 0.0295\n",
      "Epoch 890, Loss: 0.0294\n"
     ]
    },
    {
     "name": "stderr",
     "output_type": "stream",
     "text": [
      "100%|██████████| 1000/1000 [00:01<00:00, 855.06it/s]"
     ]
    },
    {
     "name": "stdout",
     "output_type": "stream",
     "text": [
      "Epoch 900, Loss: 0.0293\n",
      "Epoch 910, Loss: 0.0293\n",
      "Epoch 920, Loss: 0.0292\n",
      "Epoch 930, Loss: 0.0291\n",
      "Epoch 940, Loss: 0.0290\n",
      "Epoch 950, Loss: 0.0289\n",
      "Epoch 960, Loss: 0.0289\n",
      "Epoch 970, Loss: 0.0288\n",
      "Epoch 980, Loss: 0.0287\n",
      "Epoch 990, Loss: 0.0286\n"
     ]
    },
    {
     "name": "stderr",
     "output_type": "stream",
     "text": [
      "\n"
     ]
    }
   ],
   "execution_count": 9
  },
  {
   "metadata": {
    "ExecuteTime": {
     "end_time": "2024-07-23T07:04:46.819939Z",
     "start_time": "2024-07-23T07:04:46.716726Z"
    }
   },
   "cell_type": "code",
   "source": [
    "### Testing loop\n",
    "torch.manual_seed(42)\n",
    "\n",
    "for epoch in range(epochs):\n",
    "    with torch.inference_mode():\n",
    "        test_pred = model(X_test)\n",
    "        \n",
    "        #Checking the test loss\n",
    "        test_Loss = loss_fn(test_pred, y_test)\n",
    "    "
   ],
   "id": "9f5c4f498859c94d",
   "outputs": [],
   "execution_count": 10
  },
  {
   "metadata": {
    "ExecuteTime": {
     "end_time": "2024-07-23T07:04:47.103044Z",
     "start_time": "2024-07-23T07:04:46.821958Z"
    }
   },
   "cell_type": "code",
   "source": [
    "###Plotting our predictions\n",
    "plt.scatter(X_train, y_train, label = 'Training data' ,color ='blue')\n",
    "plt.xlabel('Price')\n",
    "plt.ylabel('Area')\n",
    "plt.show()"
   ],
   "id": "a2e970ef6906efdd",
   "outputs": [
    {
     "data": {
      "text/plain": [
       "<Figure size 640x480 with 1 Axes>"
      ],
      "image/png": "[encoded data removed]"
     },
     "metadata": {},
     "output_type": "display_data"
    }
   ],
   "execution_count": 11
  },
  {
   "metadata": {
    "ExecuteTime": {
     "end_time": "2024-07-23T07:04:47.290485Z",
     "start_time": "2024-07-23T07:04:47.107044Z"
    }
   },
   "cell_type": "code",
   "source": [
    "plt.scatter(X_test, y_test, label = 'Testing data' ,color ='red')\n",
    "plt.xlabel('Price')\n",
    "plt.ylabel('Area')\n",
    "plt.show()"
   ],
   "id": "8f1984de566f2de",
   "outputs": [
    {
     "data": {
      "text/plain": [
       "<Figure size 640x480 with 1 Axes>"
      ],
      "image/png": "[encoded data removed]"
     },
     "metadata": {},
     "output_type": "display_data"
    }
   ],
   "execution_count": 12
  },
  {
   "metadata": {
    "ExecuteTime": {
     "end_time": "2024-07-23T07:04:47.493658Z",
     "start_time": "2024-07-23T07:04:47.292510Z"
    }
   },
   "cell_type": "code",
   "source": [
    "with torch.inference_mode():\n",
    "    y_pred = model(X_test)\n",
    "plt.scatter(X_test,y_pred, label = 'Training data' ,color ='green')"
   ],
   "id": "fb556873f9b9a445",
   "outputs": [
    {
     "data": {
      "text/plain": [
       "<matplotlib.collections.PathCollection at 0x17e92ed2150>"
      ]
     },
     "execution_count": 13,
     "metadata": {},
     "output_type": "execute_result"
    },
    {
     "data": {
      "text/plain": [
       "<Figure size 640x480 with 1 Axes>"
      ],
      "image/png": "[encoded data removed]"
     },
     "metadata": {},
     "output_type": "display_data"
    }
   ],
   "execution_count": 13
  },
  {
   "metadata": {
    "ExecuteTime": {
     "end_time": "2024-07-23T07:04:47.501053Z",
     "start_time": "2024-07-23T07:04:47.494656Z"
    }
   },
   "cell_type": "code",
   "source": "print(\"GPU is available: \", torch.cuda.is_available())",
   "id": "3d51bc6ea7321797",
   "outputs": [
    {
     "name": "stdout",
     "output_type": "stream",
     "text": [
      "GPU is available:  True\n"
     ]
    }
   ],
   "execution_count": 14
  },
  {
   "metadata": {
    "ExecuteTime": {
     "end_time": "2024-07-23T07:04:47.842039Z",
     "start_time": "2024-07-23T07:04:47.504059Z"
    }
   },
   "cell_type": "code",
   "source": [
    "plt.figure(figsize=(10,7))\n",
    "plt.scatter(X_train, y_train, label = 'Training data' ,color ='blue')\n",
    "plt.scatter(X_test, y_test, label = 'Testing data' ,color ='red')\n",
    "plt.scatter(X_test,y_pred, label = 'Training data' ,color ='green')\n",
    "plt.xlabel('Price')\n",
    "plt.ylabel('Price')\n",
    "plt.legend(prop={'size':12})\n",
    "plt.show()\n"
   ],
   "id": "b6c7bd6fce0ebb9b",
   "outputs": [
    {
     "data": {
      "text/plain": [
       "<Figure size 1000x700 with 1 Axes>"
      ],
      "image/png": "[encoded data removed]"
     },
     "metadata": {},
     "output_type": "display_data"
    }
   ],
   "execution_count": 15
  },
  {
   "metadata": {
    "ExecuteTime": {
     "end_time": "2024-07-23T07:04:47.853828Z",
     "start_time": "2024-07-23T07:04:47.845065Z"
    }
   },
   "cell_type": "code",
   "source": [
    "import torch\n",
    "device =\"cuda\" if torch.cuda.is_available() else \"cpu\"\n",
    "device"
   ],
   "id": "920f0ba47bc723fc",
   "outputs": [
    {
     "data": {
      "text/plain": [
       "'cuda'"
      ]
     },
     "execution_count": 16,
     "metadata": {},
     "output_type": "execute_result"
    }
   ],
   "execution_count": 16
  }
 ],
 "metadata": {
  "kernelspec": {
   "display_name": "Python 3",
   "language": "python",
   "name": "python3"
  },
  "language_info": {
   "codemirror_mode": {
    "name": "ipython",
    "version": 2
   },
   "file_extension": ".py",
   "mimetype": "text/x-python",
   "name": "python",
   "nbconvert_exporter": "python",
   "pygments_lexer": "ipython2",
   "version": "2.7.6"
  }
 },
 "nbformat": 4,
 "nbformat_minor": 5
}
